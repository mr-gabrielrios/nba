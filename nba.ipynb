{
 "cells": [
  {
   "cell_type": "code",
   "execution_count": 58,
   "id": "1685fd5e-5bae-4ffc-bbc9-fad26e25e381",
   "metadata": {},
   "outputs": [],
   "source": [
    "import numpy as np\n",
    "import pandas as pd\n",
    "import requests"
   ]
  },
  {
   "cell_type": "code",
   "execution_count": 216,
   "id": "e6249317-03f2-46a2-99e4-89dc8875cbbb",
   "metadata": {},
   "outputs": [],
   "source": [
    "# Define player of interest\n",
    "name = 'Jimmy Butler'\n",
    "# Get player ID number\n",
    "player_id = get_player(name)\n",
    "# Define seasons of interest\n",
    "seasons = list(np.arange(2018, 2023, 1, dtype=int))\n",
    "# Create query string for the seasons of interest\n",
    "season_query = ['&seasons[]={0}'.format(season) for season in seasons]\n",
    "# Initialize list for DataFrames for future concatenation\n",
    "data = []\n",
    "# Iterate over pages - THIS METHOD IS SHIT, FIX IT\n",
    "for i in range(0, 50):\n",
    "    # Define request URL\n",
    "    url = 'https://www.balldontlie.io/api/v1/stats?' + 'page={0}'.format(i) + ''.join(season_query) + '&player_ids[]={0}'.format(79)\n",
    "    # Get player data into DataFrame\n",
    "    temp = pd.DataFrame.from_dict(requests.get(url).json()['data'])\n",
    "    # Unravel game data\n",
    "    try:\n",
    "        temp = pd.concat([temp, pd.DataFrame(list(temp['game'].values))], axis=1)\n",
    "        # Append DataFrame to list\n",
    "        data.append(temp)\n",
    "    except:\n",
    "        break\n",
    "# Concatenate\n",
    "data = pd.concat(data).sort_values('date').drop_duplicates('date').reset_index()"
   ]
  },
  {
   "cell_type": "code",
   "execution_count": 194,
   "id": "705a9d28-a61e-44f7-9865-8c65676c1222",
   "metadata": {},
   "outputs": [],
   "source": [
    "def get_player(name):\n",
    "    \n",
    "    ''' \n",
    "    Get player ID for identification purposes during stats retrieval. \n",
    "    \n",
    "    Input: name (str)\n",
    "    Output: id_ (int)\n",
    "    '''\n",
    "    \n",
    "    # Get first and last name\n",
    "    f, l = name.split(' ')\n",
    "    # Define URL for player search\n",
    "    url = 'https://www.balldontlie.io/api/v1/players?search={0}+{1}'.format(f.lower(), l.lower())\n",
    "    # Try to find the player, return None if player not found\n",
    "    try:\n",
    "        id_ = requests.get(url).json()['data'][0]['id']\n",
    "    except:\n",
    "        print('No player found for this name.')\n",
    "        id_ = None\n",
    "        \n",
    "    return id_"
   ]
  },
  {
   "cell_type": "code",
   "execution_count": null,
   "id": "c0768153-fa0a-42da-ad02-4c8b7b3110d8",
   "metadata": {},
   "outputs": [],
   "source": []
  }
 ],
 "metadata": {
  "kernelspec": {
   "display_name": "Python 3 (ipykernel)",
   "language": "python",
   "name": "python3"
  },
  "language_info": {
   "codemirror_mode": {
    "name": "ipython",
    "version": 3
   },
   "file_extension": ".py",
   "mimetype": "text/x-python",
   "name": "python",
   "nbconvert_exporter": "python",
   "pygments_lexer": "ipython3",
   "version": "3.10.8"
  }
 },
 "nbformat": 4,
 "nbformat_minor": 5
}
